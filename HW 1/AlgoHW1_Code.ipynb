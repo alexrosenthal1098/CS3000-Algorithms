{
 "cells": [
  {
   "cell_type": "code",
   "execution_count": 5,
   "id": "cfba9ba4",
   "metadata": {},
   "outputs": [
    {
     "name": "stdout",
     "output_type": "stream",
     "text": [
      "[4, 2]\n"
     ]
    }
   ],
   "source": [
    "# Problem 1: Mystery function\n",
    "def function(n):\n",
    "    if n == 0:\n",
    "        return [2, 1]\n",
    "    else:\n",
    "        b = 1\n",
    "        for i in range(1, n+1):\n",
    "            b = 2 * b\n",
    "        u_v = function(n - 1)\n",
    "        u_v[0] = u_v[0] + b\n",
    "        u_v[1] = u_v[1] * b\n",
    "        return u_v\n",
    "\n",
    "print(function(1))\n",
    "\n",
    "# starting with the coordinate (2, 1), "
   ]
  },
  {
   "cell_type": "code",
   "execution_count": null,
   "id": "62313463",
   "metadata": {},
   "outputs": [],
   "source": [
    "# IH\n",
    "# When trying to make perfect change for a jacket of price n, suppose we start with a coin that is\n",
    "# the largest perfect square less than or equal to n, with a price of m^2.\n",
    "# the inductive hypothesis (IH) is that for all n < (m+1)^2, we can make perfect change for n\n",
    "\n",
    "# Base Case\n",
    "# the smallest possible value of m is 2, which, by the IH, gives us n < (2+1)^2,  n < 9\n",
    "# we can show that for every value of n from 1 - 8 we can make exact change  (for 1: for 2: ...)\n",
    "\n",
    "# Inductive Step\n",
    "# now suppose k = m + 1  for some integer m >= 2\n",
    "# to make perfect change we consider two cases\n",
    "# if n < k^2, then by the IH we can make perfect change\n",
    "# if k^2 <= n < (k+1)^2, then we can first use a coin of value k^2 (the largest perfect square <= n),\n",
    "# which leaves us with n - k^2 value to make change for\n",
    "# since k > 2, we know that 2k + 1 < k^2\n",
    "\n",
    "# n < (k+1)^2, n < k^2 + 2k + 1, so n - k^2 < 2k + 1, and n - k^2 < k^2\n",
    "# therefore by the IH, we can make the remaining n - k^2 change to get exact change for n\n"
   ]
  }
 ],
 "metadata": {
  "kernelspec": {
   "display_name": "Python 3 (ipykernel)",
   "language": "python",
   "name": "python3"
  },
  "language_info": {
   "codemirror_mode": {
    "name": "ipython",
    "version": 3
   },
   "file_extension": ".py",
   "mimetype": "text/x-python",
   "name": "python",
   "nbconvert_exporter": "python",
   "pygments_lexer": "ipython3",
   "version": "3.9.13"
  }
 },
 "nbformat": 4,
 "nbformat_minor": 5
}
