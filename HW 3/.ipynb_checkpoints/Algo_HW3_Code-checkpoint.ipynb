{
 "cells": [
  {
   "cell_type": "code",
   "execution_count": 91,
   "id": "eeee9467",
   "metadata": {},
   "outputs": [
    {
     "data": {
      "text/plain": [
       "([0, 1, 2, 1, 3, 2, 3], [])"
      ]
     },
     "execution_count": 91,
     "metadata": {},
     "output_type": "execute_result"
    }
   ],
   "source": [
    "# Problem 1: Stacking packages\n",
    "\n",
    "# a box can be placed on top of another if it is strictly smaller (it can be rotated though)\n",
    "# and strictly lighter in weight\n",
    "\n",
    "# returns if the second box can be stacked on the first\n",
    "def IsStackable(L, B, W, i1, i2):\n",
    "    return (W[i2] < W[i1]) and ((L[i2] < L[i1] and B[i2] < B[i1]) or (B[i2] < L[i1] and L[i2] < B[i1]))\n",
    "\n",
    "# let p(i) be all packages with index k such that IsStackable(i, k) is true, then \n",
    "# OPT(i) = max{OPT(k)} + 1    if there are no k such that P(k) is true, max{OPT(k)} returns 0\n",
    "#          k in p(i)\n",
    "# OPT(0) = 0, OPT(1) = 1\n",
    "\n",
    "\n",
    "def TallestStack(L, B, W, n):\n",
    "    # sort L, B, W in order of increasing weight\n",
    "    dp = [0] * (n+1)\n",
    "    best_stack = []\n",
    "    for i in range(1, n+1): # for i from 2 to n\n",
    "        prior_stacks = [0]\n",
    "        for k in range(1, i):  # for k from 1 to i-1\n",
    "            if IsStackable(L, B, W, i-1, k-1):\n",
    "                prior_stacks.append(dp[k])\n",
    "        dp[i] = 1 + max(prior_stacks)\n",
    "    return dp, best_stack\n",
    "\n",
    "L = [10, 3, 7, 12, 6, 10]\n",
    "B = [2, 11, 5, 12, 9, 7]\n",
    "W = [1, 2, 3, 4, 6, 7]\n",
    "\n",
    "TallestStack(L, B, W, 6)"
   ]
  },
  {
   "cell_type": "code",
   "execution_count": null,
   "id": "d6976c04",
   "metadata": {},
   "outputs": [],
   "source": []
  },
  {
   "cell_type": "code",
   "execution_count": 64,
   "id": "64272824",
   "metadata": {},
   "outputs": [
    {
     "data": {
      "text/plain": [
       "[4, 4, 5, 5]"
      ]
     },
     "execution_count": 64,
     "metadata": {},
     "output_type": "execute_result"
    }
   ],
   "source": [
    "# Midterm review question\n",
    "\n",
    "def Treasure(w: list, W: int) -> list:\n",
    "    dp = [0] * (W+1)\n",
    "    for i in range(1, W+1):\n",
    "        options = [float('inf')]\n",
    "        for k in w:\n",
    "            if k <= i:\n",
    "                options.append(dp[i-k])\n",
    "        dp[i] = 1 + min(options)\n",
    "    return Reconstruct(w, W, dp)\n",
    "\n",
    "def Reconstruct(w, W, dp):\n",
    "    final = []\n",
    "    while W > 0:\n",
    "        for j in w:\n",
    "            if j <= W and (dp[W] == (1 + dp[W-j])):\n",
    "                final.append(j)\n",
    "                W -= j\n",
    "                break\n",
    "    return final\n",
    "\n",
    "Treasure([1, 4, 5], 18)"
   ]
  },
  {
   "cell_type": "code",
   "execution_count": null,
   "id": "dd4c23ae",
   "metadata": {},
   "outputs": [],
   "source": []
  }
 ],
 "metadata": {
  "kernelspec": {
   "display_name": "Python 3 (ipykernel)",
   "language": "python",
   "name": "python3"
  },
  "language_info": {
   "codemirror_mode": {
    "name": "ipython",
    "version": 3
   },
   "file_extension": ".py",
   "mimetype": "text/x-python",
   "name": "python",
   "nbconvert_exporter": "python",
   "pygments_lexer": "ipython3",
   "version": "3.9.13"
  }
 },
 "nbformat": 4,
 "nbformat_minor": 5
}
