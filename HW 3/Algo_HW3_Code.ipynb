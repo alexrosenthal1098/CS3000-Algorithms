{
 "cells": [
  {
   "cell_type": "code",
   "execution_count": 40,
   "id": "eeee9467",
   "metadata": {},
   "outputs": [
    {
     "data": {
      "text/plain": [
       "[4, 3, 2, 0]"
      ]
     },
     "execution_count": 40,
     "metadata": {},
     "output_type": "execute_result"
    }
   ],
   "source": [
    "# Problem 1: Stacking packages\n",
    "\n",
    "# Given a set of n packages with length, breadth, and weight L[i], B[i], and W[i], what is the tallest\n",
    "# possible stack of packages.\n",
    "\n",
    "# A box can be placed on top of another if it is strictly smaller (it can be rotated though)\n",
    "# and strictly lighter in weight\n",
    "\n",
    "# returns if the second box can be stacked on the first\n",
    "def IsStackable(L, B, W, i1, i2):\n",
    "    return (W[i2] < W[i1]) and ((L[i2] < L[i1] and B[i2] < B[i1]) or (B[i2] < L[i1] and L[i2] < B[i1]))\n",
    "\n",
    "# Recurrence Equation:\n",
    "# let p(i) be all packages with index k such that IsStackable(i, k) is true, then \n",
    "# OPT(i) = max{OPT(k)} + 1    if there are no k such that P(k) is true, max{OPT(k)} returns 0\n",
    "#          k in p(i)\n",
    "# OPT(0) = 0, OPT(1) = 1\n",
    "\n",
    "# returns the indices of the boxes that are part of the tallest stack\n",
    "def TallestStack(L, B, W, n):\n",
    "    # sort L, B, W in order of increasing weight\n",
    "    dp = [0] * (n) # dp[i] = max stack starting with box i\n",
    "    box_above = [-1] * (n) # box_above[i] = the box placed above i in the max stack of i\n",
    "    tallest_stack = 0;\n",
    "    for i in range(0, n): # for i from 1 to n\n",
    "        for k in range(0, i):  # for k from 1 to i-1\n",
    "            if IsStackable(L, B, W, i, k) and (dp[k] > dp[box_above[i]]):\n",
    "                box_above[i] = k\n",
    "        dp[i] = 1 + dp[box_above[i]]\n",
    "        if dp[i] > dp[tallest_stack]:\n",
    "            tallest_stack = i\n",
    "    \n",
    "    optimal = []\n",
    "    while tallest_stack >= 0:\n",
    "        optimal.append(tallest_stack)\n",
    "        tallest_stack = box_above[tallest_stack]\n",
    "    \n",
    "    return optimal\n",
    "\n",
    "L = [5, 3, 8, 7, 13]\n",
    "B = [2, 1, 6, 9, 14]\n",
    "W = [1, 2, 3, 4, 6]\n",
    "\n",
    "TallestStack(L, B, W, 5)"
   ]
  },
  {
   "cell_type": "code",
   "execution_count": 19,
   "id": "16562c85",
   "metadata": {},
   "outputs": [
    {
     "data": {
      "text/plain": [
       "(69, [9, 6, 2])"
      ]
     },
     "execution_count": 19,
     "metadata": {},
     "output_type": "execute_result"
    }
   ],
   "source": [
    "# Problem 2: Nicest photos\n",
    "\n",
    "# The skyline has n buildings of height h[n]\n",
    "# Someone can take photos with k of the buildings in them, but without capturing the same building twice\n",
    "# The score for a photo is the sum of heights + the max height\n",
    "\n",
    "# calculate the score of all possible photos from building i-k+1 to i\n",
    "def Scores(h, k):\n",
    "    scores = [0] * len(h)\n",
    "    for i in range(k-1, len(h)): # for i from k to n\n",
    "        heights = []\n",
    "        for j in range (i, i-k, -1): # for j from i down to i-k+1\n",
    "            heights.append(h[j])\n",
    "        scores[i] = max(heights) + sum(heights)\n",
    "    \n",
    "    return scores\n",
    "\n",
    "\n",
    "# Recurrence Equation:\n",
    "# OPT(i) = max{score[i] + OPT(i - k), OPT(i - 1)}\n",
    "# OPT(i <= 0) = 0\n",
    "\n",
    "\n",
    "# find the best possible score of non-overlapping photos with k buildings\n",
    "# and return the location of the photos\n",
    "def NicestPhotos(h, k):\n",
    "    scores = Scores(h, k)\n",
    "    OPT = [0] * len(h) # d\n",
    "    for i in range(len(h)): # for i from 1 to n\n",
    "        if i-k+1 < 0:  # if i-k < 0\n",
    "            OPT[i] = 0\n",
    "        else:\n",
    "            OPT[i] = max(scores[i] + OPT[i-k], OPT[i-1])\n",
    "            \n",
    "    photos = []\n",
    "    j = len(h) - 1 # j = n\n",
    "    while j >= 0: # while j > 0\n",
    "        if OPT[j] > OPT[j-1]: # jth picture was included\n",
    "            photos.append(j)\n",
    "            j = j -k\n",
    "        else:\n",
    "            j = j - 1\n",
    "    \n",
    "    return OPT[len(h) -1], photos # OPT[n] + photos\n",
    "\n",
    "h = [3, 7, 4, 2, 8, 9, 4, 1, 6, 5]\n",
    "NicestPhotos(h, 3)"
   ]
  },
  {
   "cell_type": "code",
   "execution_count": null,
   "id": "cfafbc11",
   "metadata": {},
   "outputs": [],
   "source": [
    "# Problem 3: Elegant subsequences\n",
    "\n",
    "# We are given a sorted array, an elegant subsequence is one where the difference\n",
    "# between consecutive elements is constant"
   ]
  },
  {
   "cell_type": "code",
   "execution_count": 64,
   "id": "64272824",
   "metadata": {},
   "outputs": [
    {
     "data": {
      "text/plain": [
       "[4, 4, 5, 5]"
      ]
     },
     "execution_count": 64,
     "metadata": {},
     "output_type": "execute_result"
    }
   ],
   "source": [
    "# Midterm review question: Capturing treasure \n",
    "\n",
    "# With a bag of weight W, and items of weight w[i], how can we fill the exact\n",
    "# weight of the bag with the fewest items as possible. Items can repeat.\n",
    "\n",
    "def Treasure(w: list, W: int) -> list:\n",
    "    dp = [0] * (W+1)\n",
    "    for i in range(1, W+1):\n",
    "        options = [float('inf')]\n",
    "        for k in w:\n",
    "            if k <= i:\n",
    "                options.append(dp[i-k])\n",
    "        dp[i] = 1 + min(options)\n",
    "    return Reconstruct(w, W, dp)\n",
    "\n",
    "def Reconstruct(w, W, dp):\n",
    "    final = []\n",
    "    while W > 0:\n",
    "        for j in w:\n",
    "            if j <= W and (dp[W] == (1 + dp[W-j])):\n",
    "                final.append(j)\n",
    "                W -= j\n",
    "                break\n",
    "    return final\n",
    "\n",
    "Treasure([1, 4, 5], 18)"
   ]
  },
  {
   "cell_type": "code",
   "execution_count": null,
   "id": "25f52951",
   "metadata": {},
   "outputs": [],
   "source": []
  }
 ],
 "metadata": {
  "kernelspec": {
   "display_name": "Python 3 (ipykernel)",
   "language": "python",
   "name": "python3"
  },
  "language_info": {
   "codemirror_mode": {
    "name": "ipython",
    "version": 3
   },
   "file_extension": ".py",
   "mimetype": "text/x-python",
   "name": "python",
   "nbconvert_exporter": "python",
   "pygments_lexer": "ipython3",
   "version": "3.9.13"
  }
 },
 "nbformat": 4,
 "nbformat_minor": 5
}
