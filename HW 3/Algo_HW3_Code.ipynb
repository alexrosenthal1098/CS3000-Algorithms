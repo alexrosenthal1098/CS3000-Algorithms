{
 "cells": [
  {
   "cell_type": "code",
   "execution_count": 1,
   "id": "eeee9467",
   "metadata": {},
   "outputs": [
    {
     "data": {
      "text/plain": [
       "[4, 3, 2, 0]"
      ]
     },
     "execution_count": 1,
     "metadata": {},
     "output_type": "execute_result"
    }
   ],
   "source": [
    "# Problem 1: Stacking packages\n",
    "\n",
    "# Given a set of n packages with length, breadth, and weight L[i], B[i], and W[i], what is the tallest\n",
    "# possible stack of packages.\n",
    "\n",
    "# A box can be placed on top of another if it is strictly smaller (it can be rotated though)\n",
    "# and strictly lighter in weight\n",
    "\n",
    "# returns if the second box can be stacked on the first\n",
    "def IsStackable(L, B, W, i1, i2):\n",
    "    return (W[i2] < W[i1]) and ((L[i2] < L[i1] and B[i2] < B[i1]) or (B[i2] < L[i1] and L[i2] < B[i1]))\n",
    "\n",
    "# Recurrence Equation:\n",
    "# let p(i) be all packages with index k such that IsStackable(i, k) is true, then \n",
    "# OPT(i) = max{OPT(k)} + 1    if there are no k such that P(k) is true, max{OPT(k)} returns 0\n",
    "#          k in p(i)\n",
    "# OPT(0) = 0, OPT(1) = 1\n",
    "\n",
    "# returns the indices of the boxes that are part of the tallest stack\n",
    "def TallestStack(L, B, W, n):\n",
    "    # sort L, B, W in order of increasing weight\n",
    "    OPT = [0] * n # dp[i] = max stack starting with box i\n",
    "    box_above = [-1] * (n) # box_above[i] = the box placed above i in the max stack of i\n",
    "    tallest_stack = 0;\n",
    "    for i in range(0, n): # for i from 1 to n\n",
    "        for k in range(0, i):  # for k from 1 to i-1\n",
    "            if IsStackable(L, B, W, i, k) and (dp[k] > dp[box_above[i]]):\n",
    "                box_above[i] = k\n",
    "        dp[i] = 1 + dp[box_above[i]]\n",
    "        if dp[i] > dp[tallest_stack]:\n",
    "            tallest_stack = i\n",
    "    \n",
    "    optimal = []\n",
    "    while tallest_stack >= 0:\n",
    "        optimal.append(tallest_stack)\n",
    "        tallest_stack = box_above[tallest_stack]\n",
    "    \n",
    "    return optimal\n",
    "\n",
    "L = [5, 3, 8, 7, 13]\n",
    "B = [2, 1, 6, 9, 14]\n",
    "W = [1, 2, 3, 4, 6]\n",
    "\n",
    "TallestStack(L, B, W, 5)"
   ]
  },
  {
   "cell_type": "code",
   "execution_count": 2,
   "id": "16562c85",
   "metadata": {},
   "outputs": [
    {
     "data": {
      "text/plain": [
       "(69, [9, 6, 2])"
      ]
     },
     "execution_count": 2,
     "metadata": {},
     "output_type": "execute_result"
    }
   ],
   "source": [
    "# Problem 2: Nicest photos\n",
    "\n",
    "# The skyline has n buildings of height h[n]\n",
    "# Someone can take photos with k of the buildings in them, but without capturing the same building twice\n",
    "# The score for a photo is the sum of heights + the max height\n",
    "\n",
    "# calculate the score of all possible photos from building i-k+1 to i\n",
    "def Scores(h, k):\n",
    "    scores = [0] * len(h)\n",
    "    for i in range(k-1, len(h)): # for i from k to n\n",
    "        heights = []\n",
    "        for j in range (i, i-k, -1): # for j from i down to i-k+1\n",
    "            heights.append(h[j])\n",
    "        scores[i] = max(heights) + sum(heights)\n",
    "    \n",
    "    return scores\n",
    "\n",
    "\n",
    "# Recurrence Equation:\n",
    "# OPT(i) = max{score[i] + OPT(i - k), OPT(i - 1)}\n",
    "# OPT(i <= 0) = 0\n",
    "\n",
    "\n",
    "# find the best possible score of non-overlapping photos with k buildings\n",
    "# and return the location of the photos\n",
    "def NicestPhotos(h, k):\n",
    "    scores = Scores(h, k)\n",
    "    OPT = [0] * len(h) # d\n",
    "    for i in range(len(h)): # for i from 1 to n\n",
    "        if i-k+1 < 0:  # if i-k < 0\n",
    "            OPT[i] = 0\n",
    "        else:\n",
    "            OPT[i] = max(scores[i] + OPT[i-k], OPT[i-1])\n",
    "            \n",
    "    photos = []\n",
    "    j = len(h) - 1 # j = n\n",
    "    while j >= 0: # while j > 0\n",
    "        if OPT[j] > OPT[j-1]: # jth picture was included\n",
    "            photos.append(j)\n",
    "            j = j -k\n",
    "        else:\n",
    "            j = j - 1\n",
    "    \n",
    "    return OPT[len(h) -1], photos # OPT[n] + photos\n",
    "\n",
    "h = [3, 7, 4, 2, 8, 9, 4, 1, 6, 5]\n",
    "NicestPhotos(h, 3)"
   ]
  },
  {
   "cell_type": "code",
   "execution_count": 3,
   "id": "cfafbc11",
   "metadata": {},
   "outputs": [
    {
     "data": {
      "text/plain": [
       "[1, 4, 7, 10]"
      ]
     },
     "execution_count": 3,
     "metadata": {},
     "output_type": "execute_result"
    }
   ],
   "source": [
    "# Problem 3: Elegant subsequences\n",
    "\n",
    "# We are given a sorted array, an elegant subsequence is one where the difference\n",
    "# between consecutive elements is constant\n",
    "\n",
    "# Recurrence Equation:\n",
    "# L[i,j] is the length of the longest elegant subsequence whose last 2 indices are i and j\n",
    "# p[i,j] is the index of an element in A such that A[p[i,j]] = 2A[i] - A[j]\n",
    "\n",
    "# L[i,j] = 1 + L[p[i,j], j]     if p[i,j] exists\n",
    "#        = 2                    if p[i,j] does not exist\n",
    "\n",
    "\n",
    "def ElegantSubsq(A):\n",
    "    n = len(A)\n",
    "    L = [[0 for i in range(n)] for j in range(n)] # n x n array where L[i, j] is row i and column j\n",
    "    max_i = 0\n",
    "    max_i = 1\n",
    "    max_length = -1\n",
    "    for i in range(n - 1): # for i from 1 to n-1\n",
    "        for j in range(i+1, n): # for j from i+1 to n\n",
    "            target = 2*A[i] - A[j]\n",
    "            \n",
    "            # this can be replaced with a binary search that returns\n",
    "            # the index of the element in A that equals target\n",
    "            p = -1\n",
    "            for k in range(i): # for p from 1 to i-1\n",
    "                if A[k] == target:\n",
    "                    p = k\n",
    "            if p == -1:\n",
    "                L[i][j] = 2\n",
    "            else:\n",
    "                L[i][j] = 1 + L[p][i]\n",
    "            if L[i][j] > max_length:\n",
    "                max_i = i\n",
    "                max_j = j\n",
    "                max_length = L[i][j]\n",
    "                \n",
    "    diff = A[max_j] - A[max_i]\n",
    "    last = A[max_i]\n",
    "    sequence = []\n",
    "    sequence.insert(0, A[max_j])\n",
    "    sequence.insert(0, A[max_i])\n",
    "    for i in range(max_i-1, 0-1, -1):\n",
    "        if last - A[i] == diff:\n",
    "            sequence.insert(0, A[i])\n",
    "            last = A[i]\n",
    "    return sequence\n",
    "\n",
    "A = [1, 3, 4, 7, 8, 10, 12, 17]\n",
    "ElegantSubsq(A)"
   ]
  },
  {
   "cell_type": "code",
   "execution_count": 35,
   "id": "af94c6f5",
   "metadata": {},
   "outputs": [
    {
     "data": {
      "text/plain": [
       "(70, [1, 6, 8])"
      ]
     },
     "execution_count": 35,
     "metadata": {},
     "output_type": "execute_result"
    }
   ],
   "source": [
    "# Problem 4:\n",
    "\n",
    "# You have a video consisting of n frame and each one takes s[0...n-1] bandwith.\n",
    "# You want to partition the video into at most k segments of any size such that the total\n",
    "# amount of bandwith needed is minimized. The bandwith required for any segment is the number\n",
    "# of frames in the segment times the frame in the segment that requires the most bandwith.\n",
    "\n",
    "# Recurrence Equation:\n",
    "# let cost(a,b) be the cost of the segment from frame a to frame b. i = -1 indicates no frames\n",
    "# OPT(i, m) = min{OPT(j, m-1) + cost(j+1, i)}    if there are no k such that P(k) is true, max{OPT(k)} returns 0\n",
    "#          -1<=j<i\n",
    "# OPT(0) = 0, OPT(1) = 1\n",
    "\n",
    "def Cost(S, a, b):\n",
    "    return len(S[a:b+1]) * max(S[a:b+1])\n",
    "\n",
    "def MinCost(S, k):\n",
    "    OPT = [[0 for i in range(k)] for j in range(len(S))]\n",
    "    FrameBefore = [[0 for i in range(k)] for j in range(len(S))]\n",
    "    for i in range(len(S)): # for i from 0 to n-1\n",
    "        for m in range(0, k): # for m from 1 to k\n",
    "            minn = float('inf')\n",
    "            for j in range(-1, i): # for j from -1 to i-1\n",
    "                cost = 0\n",
    "                if j == -1 or m == 0: # if j == -1 or m == 1\n",
    "                    cost = Cost(S, 0, i)\n",
    "                else:\n",
    "                    cost = OPT[j][m-1] + Cost(S, j+1, i)\n",
    "                if cost < minn:\n",
    "                    minn = cost\n",
    "                    FrameBefore[i][m] = j\n",
    "            OPT[i][m] = minn\n",
    "    \n",
    "    p = []\n",
    "    frame = len(S) - 1 # frame = n - 1\n",
    "    for seg in range(k-1, 0, -1): # for seg from k down to 2\n",
    "        p.insert(0, FrameBefore[frame][seg] + 1)\n",
    "        frame = FrameBefore[frame][seg]\n",
    "    \n",
    "    return OPT[len(S)-1][k-1], p       \n",
    "        \n",
    "                                   # indices  I_0: [0-0]     I_1: [1 - 5]   I_3: [6 - 7]    I_3: [8 - 9]\n",
    "S = [3, 8, 2, 4, 6, 9, 2, 3, 8, 5] # values      [3]      [8, 2, 4, 5, 9]      [2, 3]         [8 5]\n",
    "MinCost(S, 4)                      # costs        3        9*5 = 45             3*2 = 6        8*2 = 16   Total: 70"
   ]
  },
  {
   "cell_type": "code",
   "execution_count": 64,
   "id": "64272824",
   "metadata": {},
   "outputs": [
    {
     "data": {
      "text/plain": [
       "[4, 4, 5, 5]"
      ]
     },
     "execution_count": 64,
     "metadata": {},
     "output_type": "execute_result"
    }
   ],
   "source": [
    "# Midterm review question: Capturing treasure \n",
    "\n",
    "# With a bag of weight W, and items of weight w[i], how can we fill the exact\n",
    "# weight of the bag with the fewest items as possible. Items can repeat.\n",
    "\n",
    "def Treasure(w: list, W: int) -> list:\n",
    "    dp = [0] * (W+1)\n",
    "    for i in range(1, W+1):\n",
    "        options = [float('inf')]\n",
    "        for k in w:\n",
    "            if k <= i:\n",
    "                options.append(dp[i-k])\n",
    "        dp[i] = 1 + min(options)\n",
    "    return Reconstruct(w, W, dp)\n",
    "\n",
    "def Reconstruct(w, W, dp):\n",
    "    final = []\n",
    "    while W > 0:\n",
    "        for j in w:\n",
    "            if j <= W and (dp[W] == (1 + dp[W-j])):\n",
    "                final.append(j)\n",
    "                W -= j\n",
    "                break\n",
    "    return final\n",
    "\n",
    "Treasure([1, 4, 5], 18)"
   ]
  },
  {
   "cell_type": "code",
   "execution_count": null,
   "id": "25f52951",
   "metadata": {},
   "outputs": [],
   "source": []
  }
 ],
 "metadata": {
  "kernelspec": {
   "display_name": "Python 3 (ipykernel)",
   "language": "python",
   "name": "python3"
  },
  "language_info": {
   "codemirror_mode": {
    "name": "ipython",
    "version": 3
   },
   "file_extension": ".py",
   "mimetype": "text/x-python",
   "name": "python",
   "nbconvert_exporter": "python",
   "pygments_lexer": "ipython3",
   "version": "3.9.13"
  }
 },
 "nbformat": 4,
 "nbformat_minor": 5
}
