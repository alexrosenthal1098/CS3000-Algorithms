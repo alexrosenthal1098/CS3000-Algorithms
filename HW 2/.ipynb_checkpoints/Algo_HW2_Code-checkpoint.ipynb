{
 "cells": [
  {
   "cell_type": "code",
   "execution_count": 1,
   "id": "5ea8462a",
   "metadata": {},
   "outputs": [
    {
     "name": "stdout",
     "output_type": "stream",
     "text": [
      "[-3, 0, -8, -6, 7, -5, 5, 2, -9, -9]\n"
     ]
    },
    {
     "data": {
      "text/plain": [
       "(4, 7, 9)"
      ]
     },
     "execution_count": 1,
     "metadata": {},
     "output_type": "execute_result"
    }
   ],
   "source": [
    "# Problem 3: Finding maximum run differential using divide and conquer\n",
    "def MaxSubarray(arr, l, r):\n",
    "    # base case occurs if only 1 piece is left (since we floor the middle element use the left idx over right)\n",
    "    if l >= r:\n",
    "        return (l, r, arr[l]) # return left index, right index, and the sum of that subarray\n",
    "    mid = (l + r) // 2\n",
    "    \n",
    "    # split the array into a left, right, and middle piece and find the max subarray for each subproblem\n",
    "    # do this by recursing on left and right halves and calling MaxMiddleSubarray on middle piece\n",
    "    left = MaxSubarray(arr, l, mid - 1) \n",
    "    right = MaxSubarray(arr, mid + 1, r)\n",
    "    middle = MaxMiddleSubarray(arr, l, mid, r)\n",
    "\n",
    "    # return whichever piece has the highest sum\n",
    "    if left[2] >= right[2] and left[2] >= middle[2]:\n",
    "        return left\n",
    "    elif right[2] >= left[2] and right[2] >= middle[2]:\n",
    "        return right\n",
    "    else:\n",
    "        return middle\n",
    "    \n",
    "def MaxMiddleSubarray(arr, l, m, r):\n",
    "    # start at the middle element and move left, keeping track of the maximum sum and leftmost index\n",
    "    leftSum = float('-inf')\n",
    "    temp_sum = 0\n",
    "    l_idx = -1\n",
    "    for i in range(m, l-1, -1): \n",
    "        temp_sum = temp_sum + arr[i]\n",
    "        if temp_sum > leftSum:\n",
    "            leftSum = temp_sum\n",
    "            l_idx = i\n",
    "    \n",
    "    # same procedure for the right half\n",
    "    rightSum = float('-inf')\n",
    "    temp_sum = 0\n",
    "    r_idx = -1\n",
    "    for i in range(m, r+1): \n",
    "        temp_sum = temp_sum + arr[i]\n",
    "        if temp_sum > rightSum:\n",
    "            rightSum = temp_sum\n",
    "            r_idx = i\n",
    "    \n",
    "    # return the left and right indexes along with their sum (middle element is counted twice so subtract it)\n",
    "    middle_sum = leftSum + rightSum - arr[m]\n",
    "    return(l_idx, r_idx, middle_sum)\n",
    "    \n",
    "\n",
    "\n",
    "import numpy as np\n",
    "\n",
    "test_arr = np.random.randint(-10, 11, 10).tolist()\n",
    "print(test_arr)\n",
    "MaxSubarray(test_arr, 0, len(test_arr) -1)"
   ]
  },
  {
   "cell_type": "code",
   "execution_count": 2,
   "id": "5015e6aa",
   "metadata": {},
   "outputs": [
    {
     "name": "stdout",
     "output_type": "stream",
     "text": [
      "[-5, -4, -3, -1, 2, 5, 7, 8, 9, 11]\n",
      "5\n"
     ]
    }
   ],
   "source": [
    "# Problem 4: Finding element where value == index\n",
    "def Foo(arr, low, high):\n",
    "    # base case occurs if we only have 1 element left (return that element) or 0 (return \"No index found\")\n",
    "    if low == high and arr[low] == low:\n",
    "        return low\n",
    "    elif low >= high:\n",
    "        return \"No index found\"\n",
    "    \n",
    "    m = (low + high) // 2\n",
    "    \n",
    "    if arr[m] == m: # if the middle element is a match, return it\n",
    "        return m\n",
    "    elif arr[m] > m: # if arr[m] is greater than its index, all right half elements are not a match\n",
    "        return Foo(arr, low, m-1) # recurse on left half\n",
    "    else: # if arr[m] is less than its index, all left half elements are not a match\n",
    "        return Foo(arr, m+1, high) # recurse on right half\n",
    "    \n",
    "import random\n",
    "n = 10\n",
    "test_arr = [-n//2]\n",
    "for i in range (1, n):\n",
    "    test_arr.append(test_arr[i-1] + random.choice([1, 2, 3]))\n",
    "print(test_arr)\n",
    "print(Foo(test_arr, 0, n-1))"
   ]
  },
  {
   "cell_type": "code",
   "execution_count": 3,
   "id": "c4b7f752",
   "metadata": {},
   "outputs": [
    {
     "name": "stdout",
     "output_type": "stream",
     "text": [
      "([1, 3, 4, 5, 7, 8, 9], 10)\n"
     ]
    }
   ],
   "source": [
    "# Problem 5: Counting number of sorting mistakes\n",
    "def SortingMistakes(arr):\n",
    "    # base case occurs when we reach array of length 1\n",
    "    if len(arr) == 1:\n",
    "        return (arr, 0) # return the length 1 array, which has 0 mistakes present\n",
    "    \n",
    "    m = len(arr) // 2\n",
    "    \n",
    "    left = SortingMistakes(arr[:m]) # find number of mistakes in left half\n",
    "    right = SortingMistakes(arr[m:]) # find number of mistake sin right half\n",
    "    \n",
    "    # merge the 2 halves and return the total # of mistakes\n",
    "    return MergeMistakes(left[0], right[0], left[1] + right[1]) \n",
    "    \n",
    "def MergeMistakes(left, right, prev_mistakes):\n",
    "    # perform the \"merge\" operation of MergeSort and count the number of mistakes found (else part of conditional)\n",
    "    n = len(left) + len(right) \n",
    "    merged = [0] * n\n",
    "    li, ri = 0, 0\n",
    "    mistakes = prev_mistakes\n",
    "    for i in range(n):\n",
    "        if li >= len(left):\n",
    "            merged[i] = right[ri]\n",
    "            ri += 1\n",
    "        elif ri >= len(right):\n",
    "            merged[i] = left[li]\n",
    "            li += 1\n",
    "        elif left[li] <= right[ri]:\n",
    "            merged[i] = left[li]\n",
    "            li += 1\n",
    "        else: # if an element in the right subarray is next, then it was greater than the remaining elements in the left subarray\n",
    "            merged[i] = right[ri]\n",
    "            ri += 1\n",
    "            mistakes += len(left[li:]) # count and add the number of remaining elements in the left subarray\n",
    "    return (merged, mistakes)\n",
    "    \n",
    "print(SortingMistakes([5, 3, 7, 4, 9, 8 ,1]))"
   ]
  },
  {
   "cell_type": "code",
   "execution_count": null,
   "id": "f57d9e7c",
   "metadata": {},
   "outputs": [],
   "source": []
  }
 ],
 "metadata": {
  "kernelspec": {
   "display_name": "Python 3 (ipykernel)",
   "language": "python",
   "name": "python3"
  },
  "language_info": {
   "codemirror_mode": {
    "name": "ipython",
    "version": 3
   },
   "file_extension": ".py",
   "mimetype": "text/x-python",
   "name": "python",
   "nbconvert_exporter": "python",
   "pygments_lexer": "ipython3",
   "version": "3.9.13"
  }
 },
 "nbformat": 4,
 "nbformat_minor": 5
}
